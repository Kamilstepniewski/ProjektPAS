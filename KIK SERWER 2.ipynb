{
 "cells": [
  {
   "cell_type": "code",
   "execution_count": 1,
   "metadata": {},
   "outputs": [],
   "source": [
    "#SERWER\n",
    "import ssl\n",
    "import numpy as np\n",
    "import socket, threading\n",
    "import time\n",
    "\n",
    "plansza = np.array([[0,0,0] for i in range(3)])\n",
    "aktualny_gracz = 1"
   ]
  },
  {
   "cell_type": "code",
   "execution_count": 2,
   "metadata": {},
   "outputs": [],
   "source": [
    "\n",
    "def reset_planszy():\n",
    "    global plansza\n",
    "    plansza = np.array([[0,0,0] for i in range(3)])\n",
    "def aktualny_gracz_f():\n",
    "    return aktualny_gracz\n",
    "    \n",
    "def get_plansza():\n",
    "    return plansza.copy()\n",
    "def set_plansza(new_plansza):\n",
    "    global plansza\n",
    "    plansza = new_plansza\n",
    "    \n",
    "def wykonaj_ruch(x,y,gracz):\n",
    "    plansza = get_plansza()\n",
    "    if plansza[x][y] != 0:\n",
    "        return \"pole zajete\"\n",
    "    else:\n",
    "        plansza[x][y] = gracz\n",
    "        set_plansza(plansza)\n",
    "    return \"udalo sie\"\n",
    "def zmien_gracza():\n",
    "    global aktualny_gracz \n",
    "    aktualny_gracz= (-1)*aktualny_gracz\n",
    "    \n",
    "def czy_koniec():\n",
    "    for i in range(3):\n",
    "        if plansza[i][0] == plansza[i][1] and  plansza[i][2] == plansza[i][1] and  plansza[i][2] !=0:\n",
    "            return plansza[i][0]\n",
    "    for i in range(3):\n",
    "        if plansza[0][i] == plansza[1][i] and  plansza[2][i] == plansza[1][i] and plansza[2][i] !=0:\n",
    "            return plansza[0][i]\n",
    "    if plansza[0][0] == plansza[1][1] and plansza[1][1] == plansza[2][2] and plansza[1][1] != 0:\n",
    "        return plansza[0][0]\n",
    "    if plansza[0][2] == plansza[1][1] and plansza[1][1] == plansza[2][0] and plansza[1][1] != 0:\n",
    "        return plansza[0][0]\n",
    "    else:\n",
    "        return 0\n",
    "    \n",
    "\n"
   ]
  },
  {
   "cell_type": "code",
   "execution_count": 3,
   "metadata": {},
   "outputs": [
    {
     "data": {
      "text/plain": [
       "0"
      ]
     },
     "execution_count": 3,
     "metadata": {},
     "output_type": "execute_result"
    }
   ],
   "source": [
    "czy_koniec()"
   ]
  },
  {
   "cell_type": "code",
   "execution_count": 4,
   "metadata": {},
   "outputs": [
    {
     "data": {
      "text/plain": [
       "'udalo sie'"
      ]
     },
     "execution_count": 4,
     "metadata": {},
     "output_type": "execute_result"
    }
   ],
   "source": [
    "wykonaj_ruch(2,1,1)"
   ]
  },
  {
   "cell_type": "code",
   "execution_count": 5,
   "metadata": {},
   "outputs": [],
   "source": [
    "\n",
    "# context = ssl.SSLContext(ssl.PROTOCOL_TLS_SERVER)\n",
    "# context.load_cert_chain(r'C:\\Users\\patryk.krawczak\\Downloads\\server.crt', r'C:\\Users\\patryk.krawczak\\Downloads\\server.key')\n",
    "def create_context():\n",
    "    context = ssl.create_default_context(ssl.Purpose.CLIENT_AUTH)\n",
    "    context.verify_mode = ssl.CERT_REQUIRED\n",
    "    context.load_cert_chain(certfile= r'C:\\Users\\patryk.krawczak\\Downloads\\server.crt', keyfile= r'C:\\Users\\patryk.krawczak\\Downloads\\server.key')\n",
    "    context.load_verify_locations(cafile=r'C:\\Users\\patryk.krawczak\\Downloads\\client.crt')\n",
    "        \n",
    "    return context\n",
    "\n",
    "context = create_context()\n",
    "\n"
   ]
  },
  {
   "cell_type": "code",
   "execution_count": 6,
   "metadata": {},
   "outputs": [],
   "source": [
    "class ClientThread(threading.Thread):\n",
    "    def __init__(self,clientAddress,clientsocket,numer_gracza):\n",
    "        print(\"startuje\")\n",
    "        threading.Thread.__init__(self)\n",
    "        self.csocket = clientsocket\n",
    "        self.numer_gracza = numer_gracza\n",
    "        \n",
    "    def run(self):\n",
    "        msg = ''\n",
    "        self.csocket.sendall(b\"i am ready\")\n",
    "        while True:\n",
    "#             if aktualny_gracz_f() == self.numer_gracza:\n",
    "            data = self.csocket.recv(1048)\n",
    "            print(\"got it!\"+str(self.numer_gracza))\n",
    "            msg = data.decode()\n",
    "            if msg == \"koniec\":\n",
    "                break\n",
    "            if msg == \"START\":\n",
    "                if aktualny_gracz_f() == self.numer_gracza:\n",
    "                    self.csocket.send(b\"podaj ruch\")\n",
    "                else:\n",
    "                    self.csocket.send(b\"musisz poczekac\")\n",
    "                    print(aktualny_gracz_f(),self.numer_gracza)\n",
    "                    data = self.csocket.recv(10)\n",
    "                    if data == b\"ok\":\n",
    "                        while aktualny_gracz_f() != self.numer_gracza:\n",
    "                            time.sleep(1)\n",
    "                            print(aktualny_gracz_f(),self.numer_gracza)\n",
    "                        self.csocket.send(b\"podaj ruch\") \n",
    "                        data = self.csocket.recv(10)\n",
    "                        data = data.decode()\n",
    "                        data = int(data)\n",
    "                        \n",
    "                        \n",
    "            print(msg)\n",
    "            msg = str(self.numer_gracza)\n",
    "            self.csocket.send(msg.encode())\n",
    "                \n",
    "\n"
   ]
  },
  {
   "cell_type": "code",
   "execution_count": null,
   "metadata": {},
   "outputs": [
    {
     "name": "stdout",
     "output_type": "stream",
     "text": [
      "Server started\n",
      "startuje\n",
      "got it!1\n",
      "-1 1\n",
      "-1 1\n",
      "-1 1\n",
      "-1 1\n",
      "-1 1\n",
      "-1 1\n",
      "-1 1\n",
      "-1 1\n",
      "-1 1\n",
      "-1 1\n",
      "startuje\n",
      "1 1\n",
      "START\n",
      "got it!-1\n",
      "1 -1\n"
     ]
    }
   ],
   "source": [
    "LOCALHOST = \"127.0.0.1\"\n",
    "PORT = 8082\n",
    "\n",
    "licznik_graczy = 0\n",
    "with socket.socket(socket.AF_INET, socket.SOCK_STREAM, 0) as sock:\n",
    "    sock.bind(('127.0.0.1', PORT))\n",
    "    sock.listen(5)\n",
    "    with context.wrap_socket(sock, server_side=True) as ssock:\n",
    "        \n",
    "        print(\"Server started\")\n",
    "        while True:\n",
    "            if licznik_graczy < 2:\n",
    "                clientsock, clientAddress = ssock.accept()\n",
    "                newthread = ClientThread(clientAddress, clientsock,aktualny_gracz_f())\n",
    "                newthread.start()\n",
    "                zmien_gracza()\n",
    "                licznik_graczy += 1\n",
    "            \n",
    "## CLIENT\n"
   ]
  },
  {
   "cell_type": "code",
   "execution_count": null,
   "metadata": {},
   "outputs": [],
   "source": []
  }
 ],
 "metadata": {
  "kernelspec": {
   "display_name": "Python 3",
   "language": "python",
   "name": "python3"
  },
  "language_info": {
   "codemirror_mode": {
    "name": "ipython",
    "version": 3
   },
   "file_extension": ".py",
   "mimetype": "text/x-python",
   "name": "python",
   "nbconvert_exporter": "python",
   "pygments_lexer": "ipython3",
   "version": "3.7.1"
  }
 },
 "nbformat": 4,
 "nbformat_minor": 2
}
