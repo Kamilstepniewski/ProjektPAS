{
 "cells": [
  {
   "cell_type": "code",
   "execution_count": null,
   "metadata": {},
   "outputs": [
    {
     "name": "stdout",
     "output_type": "stream",
     "text": [
      "TLSv1.2\n",
      "connected\n",
      "From Server : i am ready\n",
      "START\n",
      "From Server : musisz poczekac\n"
     ]
    }
   ],
   "source": [
    "import ssl\n",
    "import requests\n",
    "\n",
    "# requests.get(\"http://127.0.0.1\", verify=r'C:\\Users\\patryk.krawczak\\Downloads\\server.crt')\n",
    "context = ssl.create_default_context(ssl.Purpose.SERVER_AUTH,cafile = r'C:\\Users\\patryk.krawczak\\Downloads\\server.crt')\n",
    "context.load_cert_chain(certfile= r'C:\\Users\\patryk.krawczak\\Downloads\\client.crt', keyfile= r'C:\\Users\\patryk.krawczak\\Downloads\\client.key')\n",
    "# context.load_verify_locations(cafile=r'C:\\Users\\patryk.krawczak\\Downloads\\client.crt')\n",
    "\n",
    "\n",
    "import socket\n",
    "SERVER = \"127.0.0.1\"\n",
    "PORT = 8082\n",
    "with socket.create_connection((SERVER,PORT)) as sock:\n",
    "\n",
    "    with context.wrap_socket(sock, server_hostname=\"localhost\") as client:\n",
    "        print(client.version())\n",
    "#         client.sendall(b\"cos tam\")\n",
    "        print(\"connected\")\n",
    "        while True:\n",
    "\n",
    "            \n",
    "            in_data =  client.recv(4024)\n",
    "            print(\"From Server :\" ,in_data.decode())\n",
    "            out_data = str(input())\n",
    "            client.sendall(out_data.encode())\n",
    "            if out_data=='bye':\n",
    "                break\n",
    "        client.close()"
   ]
  },
  {
   "cell_type": "code",
   "execution_count": null,
   "metadata": {},
   "outputs": [],
   "source": []
  },
  {
   "cell_type": "code",
   "execution_count": null,
   "metadata": {},
   "outputs": [],
   "source": []
  },
  {
   "cell_type": "code",
   "execution_count": null,
   "metadata": {},
   "outputs": [],
   "source": []
  }
 ],
 "metadata": {
  "kernelspec": {
   "display_name": "Python 3",
   "language": "python",
   "name": "python3"
  },
  "language_info": {
   "codemirror_mode": {
    "name": "ipython",
    "version": 3
   },
   "file_extension": ".py",
   "mimetype": "text/x-python",
   "name": "python",
   "nbconvert_exporter": "python",
   "pygments_lexer": "ipython3",
   "version": "3.7.1"
  }
 },
 "nbformat": 4,
 "nbformat_minor": 2
}
